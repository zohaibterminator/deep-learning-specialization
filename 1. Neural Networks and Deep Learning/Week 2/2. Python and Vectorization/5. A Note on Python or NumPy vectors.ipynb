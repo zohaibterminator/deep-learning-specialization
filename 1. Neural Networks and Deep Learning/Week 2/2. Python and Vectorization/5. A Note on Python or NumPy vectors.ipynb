{
 "cells": [
  {
   "cell_type": "code",
   "execution_count": 1,
   "metadata": {},
   "outputs": [],
   "source": [
    "import numpy as np"
   ]
  },
  {
   "cell_type": "markdown",
   "metadata": {},
   "source": [
    "### Drawbacks of Broadcasting\n",
    "\n",
    "Sometimes, when you perform broadcastng it can introduce very subtle or strange looking bugs, if you are not familiar with all of the intricacies of how broadcasting and how features like broadcasting works. For example, if you add a column vector with a row vector, you may be expecting that it returns an error stating the mismatch of dimensions but what you might actually get is the sum of both the vectors. Below is the code that creates 5 random Gaussian variables stored in an array"
   ]
  },
  {
   "cell_type": "code",
   "execution_count": 2,
   "metadata": {},
   "outputs": [],
   "source": [
    "a = np.random.randn(5)"
   ]
  },
  {
   "cell_type": "code",
   "execution_count": 6,
   "metadata": {},
   "outputs": [
    {
     "name": "stdout",
     "output_type": "stream",
     "text": [
      "[ 0.62305804  0.40607103 -1.22784989 -0.52965204  0.40489927]\n"
     ]
    }
   ],
   "source": [
    "print(a)"
   ]
  },
  {
   "cell_type": "code",
   "execution_count": 4,
   "metadata": {},
   "outputs": [
    {
     "name": "stdout",
     "output_type": "stream",
     "text": [
      "(5,)\n"
     ]
    }
   ],
   "source": [
    "print(a.shape)"
   ]
  },
  {
   "cell_type": "markdown",
   "metadata": {},
   "source": [
    "The above structure is rank 1 array, meaning array with 1 dimension, and is neither a column vector or a row vector. This leads to some undesirable behavior. Firstly, a.T doesn't result in anything and the array is returned as it is:"
   ]
  },
  {
   "cell_type": "code",
   "execution_count": 5,
   "metadata": {},
   "outputs": [
    {
     "name": "stdout",
     "output_type": "stream",
     "text": [
      "[ 0.62305804  0.40607103 -1.22784989 -0.52965204  0.40489927]\n"
     ]
    }
   ],
   "source": [
    "print(a.T)"
   ]
  },
  {
   "cell_type": "markdown",
   "metadata": {},
   "source": [
    "Secondly, if you take the dot product of the same array, it returns back a number instead of a another matrix"
   ]
  },
  {
   "cell_type": "code",
   "execution_count": 7,
   "metadata": {},
   "outputs": [
    {
     "name": "stdout",
     "output_type": "stream",
     "text": [
      "2.5051850543863514\n"
     ]
    }
   ],
   "source": [
    "print(np.dot(a, a.T))"
   ]
  },
  {
   "cell_type": "markdown",
   "metadata": {},
   "source": [
    "So, when working with NN, you should never work with rank 1 arrays, if you want to define a column vector or a row vector, you can do so as follows:"
   ]
  },
  {
   "cell_type": "code",
   "execution_count": 8,
   "metadata": {},
   "outputs": [],
   "source": [
    "col_vec = np.random.randn(5, 1)\n",
    "row_vec = np.random.randn(1, 5)"
   ]
  },
  {
   "cell_type": "code",
   "execution_count": 9,
   "metadata": {},
   "outputs": [
    {
     "name": "stdout",
     "output_type": "stream",
     "text": [
      "[[ 0.48026196]\n",
      " [-1.26194703]\n",
      " [ 0.99689234]\n",
      " [-1.36185452]\n",
      " [ 0.71736028]]\n"
     ]
    }
   ],
   "source": [
    "print(col_vec)"
   ]
  },
  {
   "cell_type": "code",
   "execution_count": 10,
   "metadata": {},
   "outputs": [
    {
     "name": "stdout",
     "output_type": "stream",
     "text": [
      "[[ 0.75996523  1.22697821 -0.09173272  0.11574996 -0.98203865]]\n"
     ]
    }
   ],
   "source": [
    "print(row_vec)"
   ]
  },
  {
   "cell_type": "code",
   "execution_count": 11,
   "metadata": {},
   "outputs": [
    {
     "name": "stdout",
     "output_type": "stream",
     "text": [
      "[[ 0.23065155 -0.60606515  0.47876947 -0.65404692  0.34452085]\n",
      " [-0.60606515  1.59251031 -1.25802534  1.71858827 -0.90527068]\n",
      " [ 0.47876947 -1.25802534  0.99379435 -1.35762235  0.71513098]\n",
      " [-0.65404692  1.71858827 -1.35762235  1.85464774 -0.97694035]\n",
      " [ 0.34452085 -0.90527068  0.71513098 -0.97694035  0.51460578]]\n"
     ]
    }
   ],
   "source": [
    "print(np.dot(col_vec, col_vec.T)) # now gives you a matrix"
   ]
  }
 ],
 "metadata": {
  "kernelspec": {
   "display_name": "Python 3",
   "language": "python",
   "name": "python3"
  },
  "language_info": {
   "codemirror_mode": {
    "name": "ipython",
    "version": 3
   },
   "file_extension": ".py",
   "mimetype": "text/x-python",
   "name": "python",
   "nbconvert_exporter": "python",
   "pygments_lexer": "ipython3",
   "version": "3.11.1"
  }
 },
 "nbformat": 4,
 "nbformat_minor": 2
}
